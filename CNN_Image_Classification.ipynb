{
  "nbformat": 4,
  "nbformat_minor": 0,
  "metadata": {
    "colab": {
      "provenance": [],
      "toc_visible": true,
      "include_colab_link": true
    },
    "kernelspec": {
      "name": "python3",
      "display_name": "Python 3"
    },
    "language_info": {
      "name": "python"
    }
  },
  "cells": [
    {
      "cell_type": "markdown",
      "metadata": {
        "id": "view-in-github",
        "colab_type": "text"
      },
      "source": [
        "<a href=\"https://colab.research.google.com/github/scomri/CV-MiniProjects/blob/main/CNN_Image_Classification.ipynb\" target=\"_parent\"><img src=\"https://colab.research.google.com/assets/colab-badge.svg\" alt=\"Open In Colab\"/></a>"
      ]
    },
    {
      "cell_type": "markdown",
      "source": [
        "# Image Classification - CNN"
      ],
      "metadata": {
        "id": "DjoMnonvSnK4"
      }
    },
    {
      "cell_type": "markdown",
      "source": [
        "## Introduction"
      ],
      "metadata": {
        "id": "IaotO0TMNLGn"
      }
    },
    {
      "cell_type": "markdown",
      "source": [
        "In this Python notebook, I present and discuss a mini-project focused on developing, training, and testing a Convolutional Neural Network model to identify the presence of sunglasses in face images."
      ],
      "metadata": {
        "id": "d10JsYgeYah3"
      }
    },
    {
      "cell_type": "markdown",
      "source": [
        "**The dataset used for this project** is sourced from the UCI Machine Learning Repository's CMU Face Images dataset, available at https://archive.ics.uci.edu/ml/datasets/CMU+Face+Images.\n",
        "<br> The dataset consists of samples organized into two folders, corresponding to the two classes: <br> sunglasses and without sunglasses (NoSunglasses)."
      ],
      "metadata": {
        "id": "Gl6cw18-NQ_Q"
      }
    },
    {
      "cell_type": "markdown",
      "source": [
        "**The main objective of this project** is to develop a Convolutional Neural Network (CNN) model, leveraging various concepts such as train/validation/test split, grid-search for hyperparameter tuning, cross-validation, and more."
      ],
      "metadata": {
        "id": "W_kz2eLkNTEL"
      }
    },
    {
      "cell_type": "markdown",
      "source": [
        "The notebook is divided into several sections, each serving a specific purpose.\n",
        "\n",
        "\n",
        "*   *Loading the Data:* <br>In this section, I focus on loading the data and performing necessary cleaning and transformations if required. It is essential to ensure the data is in a suitable format for subsequent model training and evaluation.\n",
        "\n",
        "*   *Training the Models:* <br>This section is dedicated to training the models while searching for optimal hyperparameters. By leveraging grid search, we aim to identify the most effective hyperparameters for achieving high model performance.\n",
        "\n",
        "* *Performance Evaluation:* <br>After training the models, it is crucial to evaluate their performance on an unseen test set. In this section, I report the evaluation metrics used to assess the model's effectiveness in identifying sunglasses in face images. Thoughtful consideration has been given to selecting appropriate evaluation metrics for this specific task."
      ],
      "metadata": {
        "id": "bUfIuewRapCR"
      }
    },
    {
      "cell_type": "markdown",
      "source": [
        "Additionally, I will address the following questions, providing insights into various aspects of the model and its training process:\n",
        "\n",
        "* *Does the model overfit?*\n",
        "* *What is the effect of batch size? Do we observe this effect in the current task?*\n",
        "* *What was the optimal optimizer? Why?*\n",
        "\n",
        "By thoroughly examining these questions, we can gain a deeper understanding of the model's behavior and performance characteristics."
      ],
      "metadata": {
        "id": "zgbrn7GTasXT"
      }
    },
    {
      "cell_type": "markdown",
      "source": [
        "## Install & Import Packages"
      ],
      "metadata": {
        "id": "X7XLdYMoS2HB"
      }
    },
    {
      "cell_type": "code",
      "source": [
        "!pip install scikeras"
      ],
      "metadata": {
        "id": "ylpHOTjjETun",
        "colab": {
          "base_uri": "https://localhost:8080/"
        },
        "outputId": "8e1c5112-54ef-4028-838a-a898c2103d7d"
      },
      "execution_count": 1,
      "outputs": [
        {
          "output_type": "stream",
          "name": "stdout",
          "text": [
            "Collecting scikeras\n",
            "  Downloading scikeras-0.11.0-py3-none-any.whl (27 kB)\n",
            "Requirement already satisfied: packaging>=0.21 in /usr/local/lib/python3.10/dist-packages (from scikeras) (23.1)\n",
            "Requirement already satisfied: scikit-learn>=1.0.0 in /usr/local/lib/python3.10/dist-packages (from scikeras) (1.2.2)\n",
            "Requirement already satisfied: numpy>=1.17.3 in /usr/local/lib/python3.10/dist-packages (from scikit-learn>=1.0.0->scikeras) (1.22.4)\n",
            "Requirement already satisfied: scipy>=1.3.2 in /usr/local/lib/python3.10/dist-packages (from scikit-learn>=1.0.0->scikeras) (1.10.1)\n",
            "Requirement already satisfied: joblib>=1.1.1 in /usr/local/lib/python3.10/dist-packages (from scikit-learn>=1.0.0->scikeras) (1.2.0)\n",
            "Requirement already satisfied: threadpoolctl>=2.0.0 in /usr/local/lib/python3.10/dist-packages (from scikit-learn>=1.0.0->scikeras) (3.1.0)\n",
            "Installing collected packages: scikeras\n",
            "Successfully installed scikeras-0.11.0\n"
          ]
        }
      ]
    },
    {
      "cell_type": "code",
      "source": [
        "import os\n",
        "import cv2\n",
        "import numpy as np\n",
        "import tensorflow as tf\n",
        "from tensorflow import keras\n",
        "from keras import datasets, layers, models\n",
        "from sklearn.model_selection import train_test_split, cross_validate, cross_val_score, cross_val_predict, learning_curve, ShuffleSplit, GridSearchCV, KFold, RepeatedKFold\n",
        "import matplotlib.pyplot as plt\n",
        "from scikeras.wrappers import KerasClassifier\n",
        "from sklearn.metrics import accuracy_score, precision_score, recall_score, roc_curve, RocCurveDisplay, confusion_matrix, precision_recall_curve, ConfusionMatrixDisplay, PrecisionRecallDisplay, f1_score\n",
        "import seaborn as sns\n"
      ],
      "metadata": {
        "id": "LO1PgiAydHVd"
      },
      "execution_count": 7,
      "outputs": []
    },
    {
      "cell_type": "markdown",
      "source": [
        "## Extract Data"
      ],
      "metadata": {
        "id": "6y39qHVe5vU9"
      }
    },
    {
      "cell_type": "code",
      "source": [
        "from google.colab import drive\n",
        "drive.mount('/content/drive')"
      ],
      "metadata": {
        "id": "6IhX5oV0Vr5b",
        "colab": {
          "base_uri": "https://localhost:8080/"
        },
        "outputId": "ec521635-8880-419e-fa11-c37efbf16b03"
      },
      "execution_count": 3,
      "outputs": [
        {
          "output_type": "stream",
          "name": "stdout",
          "text": [
            "Mounted at /content/drive\n"
          ]
        }
      ]
    },
    {
      "cell_type": "code",
      "source": [
        "dir_root = '/content/drive/MyDrive/PersonalProjects/Computer Vision Mini-Projects'"
      ],
      "metadata": {
        "id": "KAJ9W0huTGyl"
      },
      "execution_count": 4,
      "outputs": []
    },
    {
      "cell_type": "code",
      "source": [
        "import os\n",
        "from google.colab import files\n",
        "import zipfile\n",
        "\n",
        "# Create the main directory\n",
        "\n",
        "try:\n",
        "    os.mkdir(f'{dir_root}/CMUFaceImages_Data')\n",
        "except OSError:\n",
        "    print (\"Creation of the directory 'CMUFaceImages_Data' failed\")\n",
        "else:\n",
        "    print (\"Successfully created the directory 'CMUFaceImages_Data'\")\n",
        "\n",
        "\n",
        "# Extract the zip file\n",
        "zip_file_path = os.path.join(dir_root, 'CMUFaceImages.zip')\n",
        "\n",
        "try:\n",
        "    with zipfile.ZipFile(zip_file_path, 'r') as zip_ref:\n",
        "        zip_ref.extractall(os.path.join(dir_root, 'CMUFaceImages_Data'))\n",
        "except zipfile.BadZipFile:\n",
        "    print(\"Failed to extract the zip file\")\n",
        "else:\n",
        "    print(\"Successfully extracted the zip file\")\n",
        "\n"
      ],
      "metadata": {
        "id": "VcF_psXyjZtu",
        "colab": {
          "base_uri": "https://localhost:8080/"
        },
        "outputId": "f56314b3-df29-4aff-d32b-f9df367899fb"
      },
      "execution_count": 5,
      "outputs": [
        {
          "output_type": "stream",
          "name": "stdout",
          "text": [
            "Successfully created the directory 'CMUFaceImages_Data'\n",
            "Successfully extracted the zip file\n"
          ]
        }
      ]
    },
    {
      "cell_type": "markdown",
      "source": [
        "## Load Data"
      ],
      "metadata": {
        "id": "FOVo66VcnVsN"
      }
    },
    {
      "cell_type": "code",
      "source": [
        "# Image dimensions\n",
        "IMG_WIDTH = 32\n",
        "IMG_HEIGHT = 30\n",
        "\n",
        "# Root folder path containing the image dataset\n",
        "IMG_FOLDER = f'{dir_root}/CMUFaceImages_Data/'\n",
        "\n",
        "def create_dataset(img_folder):\n",
        "    \"\"\"\n",
        "    Function to create the dataset by loading and preprocessing the images.\n",
        "\n",
        "    Args:\n",
        "        img_folder (str): Path to the root folder containing the image dataset.\n",
        "\n",
        "    Returns:\n",
        "        img_data_array (list): List of preprocessed image data arrays.\n",
        "        class_name (list): List of corresponding class names.\n",
        "\n",
        "    \"\"\"\n",
        "    img_data_array = []\n",
        "    class_name = []\n",
        "\n",
        "    for dir_class in os.listdir(img_folder):\n",
        "        for file in os.listdir(os.path.join(img_folder, dir_class)):\n",
        "            image_path = os.path.join(img_folder, dir_class, file)\n",
        "            # The image is loaded using cv2.imread with the cv2.COLOR_BGR2RGB flag\n",
        "            # This function reads the image from the given path and converts it to the RGB color space\n",
        "            image = cv2.imread(image_path, cv2.COLOR_BGR2RGB)\n",
        "            image = cv2.resize(image, (IMG_HEIGHT, IMG_WIDTH), interpolation=cv2.INTER_AREA)\n",
        "            image = np.array(image)\n",
        "            image = image.astype('float32')\n",
        "            # Normalize image data by dividing each pixel value by 255, this scales the pixel values between 0 and 1\n",
        "            image /= 255\n",
        "            img_data_array.append(image)\n",
        "            class_name.append(dir_class)\n",
        "\n",
        "    return img_data_array, class_name\n",
        "\n",
        "# Extract the image array and class name\n",
        "img_data, class_name = create_dataset(IMG_FOLDER)\n",
        "\n",
        "# Create a dictionary mapping class names to numeric values\n",
        "target_dict = {k: v for v, k in enumerate(np.unique(class_name))}\n",
        "\n",
        "# Convert the class_names to their respective numeric value based on the dictionary\n",
        "target_val = [target_dict[class_name[i]] for i in range(len(class_name))]"
      ],
      "metadata": {
        "id": "eZnrtH-gdJtE"
      },
      "execution_count": 10,
      "outputs": []
    },
    {
      "cell_type": "markdown",
      "source": [
        "## Transform Data"
      ],
      "metadata": {
        "id": "rkxJ9RhkdmUu"
      }
    },
    {
      "cell_type": "code",
      "source": [
        "# Convert to X - a 3D array (samples, width, height) and y - 0/1\n",
        "X = tf.cast(np.array(img_data), tf.float64)\n",
        "y = tf.cast(list(map(int, target_val)), tf.int32)"
      ],
      "metadata": {
        "id": "2KGuJBpydoTe"
      },
      "execution_count": 11,
      "outputs": []
    },
    {
      "cell_type": "code",
      "source": [
        "# Convert EagenTensors to numpy arrays\n",
        "# certain operations or external libraries may require working with numpy arrays instead of TensorFlow tensors\n",
        "\n",
        "x = X.numpy()\n",
        "y = y.numpy()"
      ],
      "metadata": {
        "id": "aI3kMOsrOyZa"
      },
      "execution_count": 12,
      "outputs": []
    },
    {
      "cell_type": "markdown",
      "source": [
        "## Train / Validation / Test Split"
      ],
      "metadata": {
        "id": "XolD2GAMdptm"
      }
    },
    {
      "cell_type": "code",
      "source": [
        "# Split data into train, validation and test\n",
        "\n",
        "# Test and train\n",
        "x_train, x_test, y_train, y_test = train_test_split(x, y, test_size=0.2, random_state=0)\n",
        "\n",
        "# Valiadtion\n",
        "x_train, x_val, y_train, y_val = train_test_split(x_train, y_train, test_size=0.125, random_state=0)"
      ],
      "metadata": {
        "id": "1KLjrhC1O_8u"
      },
      "execution_count": 13,
      "outputs": []
    },
    {
      "cell_type": "markdown",
      "source": [
        "## Build and Train the Model"
      ],
      "metadata": {
        "id": "XzNaA5U7TDGC"
      }
    },
    {
      "cell_type": "code",
      "source": [
        "# Set color channels value to 1 because we have black and white images, not colored\n",
        "input_shape = (x_train.shape[1], x_train.shape[2], 1)\n",
        "print(input_shape)"
      ],
      "metadata": {
        "colab": {
          "base_uri": "https://localhost:8080/"
        },
        "id": "YYPiersMXpWz",
        "outputId": "ed2f9a5d-dae1-4748-a937-5d19000dbc08"
      },
      "execution_count": 14,
      "outputs": [
        {
          "output_type": "stream",
          "name": "stdout",
          "text": [
            "(32, 30, 1)\n"
          ]
        }
      ]
    },
    {
      "cell_type": "code",
      "source": [
        "def create_cnn_model(model_input_shape=(32, 30, 1), model_kernel_size=(3, 3), model_optimizer='adam'):\n",
        "    \"\"\"\n",
        "    Function to create a convolutional neural network (CNN) model for image classification.\n",
        "\n",
        "    Args:\n",
        "        model_input_shape (tuple): Input shape of the image data in the format (height, width, channels).\n",
        "        model_kernel_size (tuple): Kernel size for the convolutional layers in the format (height, width).\n",
        "        model_optimizer (str or optimizer): Optimizer to be used for model compilation.\n",
        "\n",
        "    Returns:\n",
        "        model (tf.keras.Model): Compiled CNN model for image classification.\n",
        "\n",
        "    \"\"\"\n",
        "    # Sequential model\n",
        "    # The Sequential model is a linear stack of layers, where each layer feeds its output into the next layer\n",
        "    model = keras.models.Sequential()\n",
        "\n",
        "    # Create convolutional base\n",
        "    # The model uses three Conv2D layers with different parameters\n",
        "    model.add(layers.Conv2D(filters=32, kernel_size=model_kernel_size, activation='relu', input_shape=model_input_shape))\n",
        "    # After each Conv2D layer, a MaxPooling2D layer with a pool size of (2, 2) is added\n",
        "    # Max pooling reduces the spatial dimensions of the output feature maps\n",
        "    model.add(layers.MaxPooling2D(pool_size=(2, 2)))\n",
        "    model.add(layers.Conv2D(filters=64, kernel_size=model_kernel_size, activation='relu'))\n",
        "    model.add(layers.MaxPooling2D(pool_size=(2, 2)))\n",
        "    model.add(layers.Conv2D(filters=64, kernel_size=model_kernel_size, activation='relu'))\n",
        "\n",
        "    # Following the convolutional base, add a Flatten layer to convert the 2D feature maps into a 1D vector\n",
        "    # This prepares the data for the subsequent dense layers\n",
        "    model.add(layers.Flatten())\n",
        "\n",
        "    # Two dense layers are added on top of the flattened output\n",
        "    model.add(layers.Dense(units=64, activation='relu'))\n",
        "    # The last dense layer has a 'sigmoid' activation function, which is suitable for binary classification problems\n",
        "    model.add(layers.Dense(units=1, activation='sigmoid'))\n",
        "\n",
        "    # Compile the model\n",
        "    model.compile(optimizer=model_optimizer,\n",
        "                  loss='binary_crossentropy', # This loss function is commonly used for binary classification problems\n",
        "                  metrics=['accuracy', keras.metrics.Precision(), keras.metrics.Recall()])\n",
        "\n",
        "    return model\n"
      ],
      "metadata": {
        "id": "BJhDPhMNegDL"
      },
      "execution_count": 15,
      "outputs": []
    },
    {
      "cell_type": "markdown",
      "source": [
        "### Create Base Model with Default Parameters"
      ],
      "metadata": {
        "id": "dLCc75GRbqoi"
      }
    },
    {
      "cell_type": "code",
      "source": [
        "base_model = create_cnn_model()"
      ],
      "metadata": {
        "id": "NuWkNbyRfTJr"
      },
      "execution_count": 16,
      "outputs": []
    },
    {
      "cell_type": "code",
      "source": [
        "# Display architecture\n",
        "base_model.summary()"
      ],
      "metadata": {
        "id": "0FetnxJdYICf",
        "colab": {
          "base_uri": "https://localhost:8080/"
        },
        "outputId": "2e59ecae-b34d-422d-de43-43f70c0c8abd"
      },
      "execution_count": 17,
      "outputs": [
        {
          "output_type": "stream",
          "name": "stdout",
          "text": [
            "Model: \"sequential\"\n",
            "_________________________________________________________________\n",
            " Layer (type)                Output Shape              Param #   \n",
            "=================================================================\n",
            " conv2d (Conv2D)             (None, 30, 28, 32)        320       \n",
            "                                                                 \n",
            " max_pooling2d (MaxPooling2D  (None, 15, 14, 32)       0         \n",
            " )                                                               \n",
            "                                                                 \n",
            " conv2d_1 (Conv2D)           (None, 13, 12, 64)        18496     \n",
            "                                                                 \n",
            " max_pooling2d_1 (MaxPooling  (None, 6, 6, 64)         0         \n",
            " 2D)                                                             \n",
            "                                                                 \n",
            " conv2d_2 (Conv2D)           (None, 4, 4, 64)          36928     \n",
            "                                                                 \n",
            " flatten (Flatten)           (None, 1024)              0         \n",
            "                                                                 \n",
            " dense (Dense)               (None, 64)                65600     \n",
            "                                                                 \n",
            " dense_1 (Dense)             (None, 1)                 65        \n",
            "                                                                 \n",
            "=================================================================\n",
            "Total params: 121,409\n",
            "Trainable params: 121,409\n",
            "Non-trainable params: 0\n",
            "_________________________________________________________________\n"
          ]
        }
      ]
    },
    {
      "cell_type": "code",
      "source": [
        "# Train the model\n",
        "\n",
        "base_history = base_model.fit(x_train, y_train, epochs=10, batch_size=32, validation_data=(x_val, y_val), verbose=1)"
      ],
      "metadata": {
        "id": "PkSBSP24f0rY",
        "colab": {
          "base_uri": "https://localhost:8080/"
        },
        "outputId": "bca7301f-6786-4913-b639-ec0870ec7dc6"
      },
      "execution_count": 18,
      "outputs": [
        {
          "output_type": "stream",
          "name": "stdout",
          "text": [
            "Epoch 1/10\n",
            "14/14 [==============================] - 4s 113ms/step - loss: 0.6891 - accuracy: 0.5298 - precision: 0.5455 - recall: 0.3578 - val_loss: 0.6891 - val_accuracy: 0.5079 - val_precision: 0.5079 - val_recall: 1.0000\n",
            "Epoch 2/10\n",
            "14/14 [==============================] - 1s 58ms/step - loss: 0.6760 - accuracy: 0.6399 - precision: 0.5968 - recall: 0.8624 - val_loss: 0.6509 - val_accuracy: 0.7302 - val_precision: 0.7778 - val_recall: 0.6562\n",
            "Epoch 3/10\n",
            "14/14 [==============================] - 1s 44ms/step - loss: 0.5962 - accuracy: 0.7271 - precision: 0.7089 - recall: 0.7706 - val_loss: 0.5521 - val_accuracy: 0.7619 - val_precision: 0.7429 - val_recall: 0.8125\n",
            "Epoch 4/10\n",
            "14/14 [==============================] - 1s 44ms/step - loss: 0.4758 - accuracy: 0.7752 - precision: 0.7857 - recall: 0.7569 - val_loss: 0.5005 - val_accuracy: 0.7302 - val_precision: 0.7778 - val_recall: 0.6562\n",
            "Epoch 5/10\n",
            "14/14 [==============================] - 1s 45ms/step - loss: 0.3832 - accuracy: 0.8394 - precision: 0.8776 - recall: 0.7890 - val_loss: 0.4854 - val_accuracy: 0.7937 - val_precision: 0.8065 - val_recall: 0.7812\n",
            "Epoch 6/10\n",
            "14/14 [==============================] - 1s 43ms/step - loss: 0.3463 - accuracy: 0.8509 - precision: 0.8732 - recall: 0.8211 - val_loss: 0.4349 - val_accuracy: 0.8095 - val_precision: 0.8571 - val_recall: 0.7500\n",
            "Epoch 7/10\n",
            "14/14 [==============================] - 1s 44ms/step - loss: 0.2909 - accuracy: 0.8693 - precision: 0.8710 - recall: 0.8670 - val_loss: 0.4166 - val_accuracy: 0.7619 - val_precision: 0.8148 - val_recall: 0.6875\n",
            "Epoch 8/10\n",
            "14/14 [==============================] - 1s 39ms/step - loss: 0.2538 - accuracy: 0.8968 - precision: 0.9061 - recall: 0.8853 - val_loss: 0.4143 - val_accuracy: 0.8571 - val_precision: 0.8286 - val_recall: 0.9062\n",
            "Epoch 9/10\n",
            "14/14 [==============================] - 1s 42ms/step - loss: 0.2207 - accuracy: 0.9220 - precision: 0.9259 - recall: 0.9174 - val_loss: 0.3726 - val_accuracy: 0.8571 - val_precision: 0.8710 - val_recall: 0.8438\n",
            "Epoch 10/10\n",
            "14/14 [==============================] - 1s 43ms/step - loss: 0.1875 - accuracy: 0.9381 - precision: 0.9361 - recall: 0.9404 - val_loss: 0.4063 - val_accuracy: 0.8571 - val_precision: 0.8710 - val_recall: 0.8438\n"
          ]
        }
      ]
    },
    {
      "cell_type": "markdown",
      "source": [
        "### Base Model Evaluation"
      ],
      "metadata": {
        "id": "cmivxlE37wEx"
      }
    },
    {
      "cell_type": "code",
      "source": [
        "def eval_metrics(my_model, x_set, y_set):\n",
        "    \"\"\"\n",
        "    Function to evaluate and print the performance metrics of a given model on a dataset.\n",
        "\n",
        "    Args:\n",
        "        my_model (tf.keras.Model): Model to be evaluated.\n",
        "        x_set (numpy.ndarray): Input data for evaluation.\n",
        "        y_set (numpy.ndarray): Target data for evaluation.\n",
        "\n",
        "    Returns:\n",
        "        loss (float): Loss value of the evaluated model.\n",
        "        accuracy (float): Accuracy value of the evaluated model.\n",
        "        precision (float): Precision value of the evaluated model.\n",
        "        recall (float): Recall value of the evaluated model.\n",
        "\n",
        "    \"\"\"\n",
        "    # Evaluate the model\n",
        "    loss, accuracy, precision, recall = my_model.evaluate(x_set, y_set, verbose=0)\n",
        "\n",
        "    # Print model evaluation metrics results\n",
        "    print(f\"Model Loss: {loss}\")\n",
        "    print(f\"Model Accuracy: {accuracy}\")\n",
        "    print(f\"Model Precision: {precision}\")\n",
        "    print(f\"Model Recall: {recall}\")\n",
        "\n",
        "    return loss, accuracy, precision, recall\n"
      ],
      "metadata": {
        "id": "auJVYHwpfHxD"
      },
      "execution_count": 19,
      "outputs": []
    },
    {
      "cell_type": "code",
      "source": [
        "train_loss, train_acc, train_prec, train_recall  = eval_metrics(base_model, x_train, y_train)"
      ],
      "metadata": {
        "id": "XF21KVINlhYx",
        "colab": {
          "base_uri": "https://localhost:8080/"
        },
        "outputId": "9013c34d-cd3b-4a12-8402-180c606b32db"
      },
      "execution_count": 20,
      "outputs": [
        {
          "output_type": "stream",
          "name": "stdout",
          "text": [
            "Model Loss: 0.17593786120414734\n",
            "Model Accuracy: 0.9449541568756104\n",
            "Model Precision: 0.9369369149208069\n",
            "Model Recall: 0.9541284441947937\n"
          ]
        }
      ]
    },
    {
      "cell_type": "code",
      "source": [
        "def plot_history_metric(history, metric):\n",
        "    \"\"\"\n",
        "    Function to plot a specific metric over epochs from the training history.\n",
        "\n",
        "    Args:\n",
        "        history (tf.keras.callbacks.History): Training history object returned by the model.fit() method.\n",
        "        metric (str): Name of the metric to be plotted.\n",
        "\n",
        "    Returns:\n",
        "        None\n",
        "\n",
        "    \"\"\"\n",
        "    # Plot metric vs. epochs graph\n",
        "    plt.plot(history.history[metric])\n",
        "    plt.plot(history.history[f\"val_{metric}\"], label=f\"val_{metric}\")\n",
        "    plt.title(f\"Model {metric}\")\n",
        "    plt.ylabel(metric)\n",
        "    plt.xlabel('Epoch')\n",
        "    plt.legend(['Train', \"Validation\"], loc='lower right')\n",
        "    plt.show()\n"
      ],
      "metadata": {
        "id": "xrgN4aASvV1q"
      },
      "execution_count": 21,
      "outputs": []
    },
    {
      "cell_type": "code",
      "source": [
        "base_history.history.keys()"
      ],
      "metadata": {
        "colab": {
          "base_uri": "https://localhost:8080/"
        },
        "id": "d7UXU46s5ZfU",
        "outputId": "97a1eb95-641c-4210-f03f-d4def0bfe147"
      },
      "execution_count": 22,
      "outputs": [
        {
          "output_type": "execute_result",
          "data": {
            "text/plain": [
              "dict_keys(['loss', 'accuracy', 'precision', 'recall', 'val_loss', 'val_accuracy', 'val_precision', 'val_recall'])"
            ]
          },
          "metadata": {},
          "execution_count": 22
        }
      ]
    },
    {
      "cell_type": "code",
      "source": [
        "plot_history_metric(base_history, 'loss')"
      ],
      "metadata": {
        "id": "4ttccIvAvx1Y",
        "colab": {
          "base_uri": "https://localhost:8080/",
          "height": 472
        },
        "outputId": "137af6df-3ce1-46b8-9f44-7c7eb652a2e5"
      },
      "execution_count": 23,
      "outputs": [
        {
          "output_type": "display_data",
          "data": {
            "text/plain": [
              "<Figure size 640x480 with 1 Axes>"
            ],
            "image/png": "[encoded data removed]"
          },
          "metadata": {}
        }
      ]
    },
    {
      "cell_type": "code",
      "source": [
        "plot_history_metric(base_history, 'accuracy')"
      ],
      "metadata": {
        "colab": {
          "base_uri": "https://localhost:8080/",
          "height": 472
        },
        "id": "ij6dF2FATEII",
        "outputId": "b01e10da-1d1c-4360-a2f2-04b75b6543e5"
      },
      "execution_count": 24,
      "outputs": [
        {
          "output_type": "display_data",
          "data": {
            "text/plain": [
              "<Figure size 640x480 with 1 Axes>"
            ],
            "image/png": "[encoded data removed]"
          },
          "metadata": {}
        }
      ]
    },
    {
      "cell_type": "code",
      "source": [
        "plot_history_metric(base_history, 'precision')"
      ],
      "metadata": {
        "colab": {
          "base_uri": "https://localhost:8080/",
          "height": 472
        },
        "id": "cLGdKF9ETE1t",
        "outputId": "7919f1ee-23ed-4c0e-bde6-53c8e485138a"
      },
      "execution_count": 25,
      "outputs": [
        {
          "output_type": "display_data",
          "data": {
            "text/plain": [
              "<Figure size 640x480 with 1 Axes>"
            ],
            "image/png": "[encoded data removed]"
          },
          "metadata": {}
        }
      ]
    },
    {
      "cell_type": "code",
      "source": [
        "plot_history_metric(base_history, 'recall')"
      ],
      "metadata": {
        "colab": {
          "base_uri": "https://localhost:8080/",
          "height": 472
        },
        "id": "e6OHC1x5TFGl",
        "outputId": "0e8034bb-e716-4efa-dec7-e18e4de06cdc"
      },
      "execution_count": 26,
      "outputs": [
        {
          "output_type": "display_data",
          "data": {
            "text/plain": [
              "<Figure size 640x480 with 1 Axes>"
            ],
            "image/png": "[encoded data removed]"
          },
          "metadata": {}
        }
      ]
    },
    {
      "cell_type": "markdown",
      "source": [
        "## Grid Search"
      ],
      "metadata": {
        "id": "xJkwOCBgqX4O"
      }
    },
    {
      "cell_type": "markdown",
      "source": [
        "Now in order to find the optimal hyperparameters for our model, we will use grid search."
      ],
      "metadata": {
        "id": "pHBmClPYdv28"
      }
    },
    {
      "cell_type": "code",
      "source": [
        "# Wrap model with scikit-learn in order to run grid search\n",
        "keras_clf = KerasClassifier(build_fn=create_cnn_model, verbose=1)\n",
        "\n",
        "param_grid = dict(epochs=[10, 20, 30],\n",
        "                  batch_size=[32, 64],\n",
        "                  optimizer=['adam', 'sgd', 'adagrad'])\n",
        "\n",
        "print(f\"Hyper parameters to check in Grid Search: {param_grid}\")"
      ],
      "metadata": {
        "id": "A4uboWU3p8-_",
        "colab": {
          "base_uri": "https://localhost:8080/"
        },
        "outputId": "d6a5e763-8061-47ea-d14f-289f3518d351"
      },
      "execution_count": 27,
      "outputs": [
        {
          "output_type": "stream",
          "name": "stdout",
          "text": [
            "Hyper parameters to check in Grid Search: {'epochs': [10, 20, 30], 'batch_size': [32, 64], 'optimizer': ['adam', 'sgd', 'adagrad']}\n"
          ]
        }
      ]
    },
    {
      "cell_type": "code",
      "source": [
        "grid_search_cv = GridSearchCV(estimator=keras_clf, param_grid=param_grid, n_jobs=-1, cv=3)\n",
        "\n",
        "grid_search_res = grid_search_cv.fit(x_train, y_train)"
      ],
      "metadata": {
        "id": "nZxW8pQzTdNr"
      },
      "execution_count": null,
      "outputs": []
    },
    {
      "cell_type": "markdown",
      "source": [
        "### Grid Search Results"
      ],
      "metadata": {
        "id": "kRAIBLmC6NHE"
      }
    },
    {
      "cell_type": "code",
      "source": [
        "# Print grid search results\n",
        "print(\"The best hyper parameters for the CNN model:\", grid_search_res.best_params_ )\n",
        "print(f\"Best accuracy score: {grid_search_res.best_score_}\")"
      ],
      "metadata": {
        "id": "69l6_tKtKNwu"
      },
      "execution_count": null,
      "outputs": []
    },
    {
      "cell_type": "markdown",
      "source": [
        "***The best hyper parameters for the CNN model:*** `{'batch_size': 32, 'epochs': 30, 'optimizer': 'adam'}`"
      ],
      "metadata": {
        "id": "fKogsaKZnyF0"
      }
    },
    {
      "cell_type": "markdown",
      "source": [
        "## Train Model with Best Hyper Parameters"
      ],
      "metadata": {
        "id": "cmECliAT6EyH"
      }
    },
    {
      "cell_type": "code",
      "source": [
        "# Save best params from grid search results\n",
        "best_batch_size = 32 # grid_search_res.best_params_['batch_size']\n",
        "\n",
        "best_epochs = 30 # grid_search_res.best_params_['epochs']\n",
        "\n",
        "best_optimizer = 'adam' # grid_search_res.best_params_['optimizer']"
      ],
      "metadata": {
        "id": "CBZlzqAYm4vN"
      },
      "execution_count": null,
      "outputs": []
    },
    {
      "cell_type": "markdown",
      "source": [
        "#### Create Best Model"
      ],
      "metadata": {
        "id": "qzfzX0JXZTS_"
      }
    },
    {
      "cell_type": "code",
      "source": [
        "# Train the model with the best params from grid search\n",
        "best_model = create_cnn_model(model_optimizer=best_optimizer)\n",
        "\n",
        "best_history = best_model.fit(x_train, y_train, epochs=best_epochs, batch_size=best_batch_size, validation_data=(x_val, y_val), verbose=1)"
      ],
      "metadata": {
        "id": "u6Sb4tvKymn0"
      },
      "execution_count": null,
      "outputs": []
    },
    {
      "cell_type": "markdown",
      "source": [
        "## Performance Report"
      ],
      "metadata": {
        "id": "qeIVOn5fTJDY"
      }
    },
    {
      "cell_type": "markdown",
      "source": [
        "In this section, I will present evaluation results for both the training process and the final predictions of the model for the test set."
      ],
      "metadata": {
        "id": "mOrU7Y7OXty7"
      }
    },
    {
      "cell_type": "markdown",
      "source": [
        "First, I will provide short explanations about a few main preformance evaluation metrics:"
      ],
      "metadata": {
        "id": "eq9j5JviX4Hn"
      }
    },
    {
      "cell_type": "markdown",
      "source": [
        "* **Loss:** measures how well the model is able to predict the correct label for an image.\n",
        "<br> Low loss value indicates that the model is making more accurate predictions.\n",
        "\n",
        "* **Accuracy:** measures the how many images were classified correctly out of the total number of images.\n",
        "<br> High accuracy value indicates that the model is making more accurate predictions.\n",
        "\n",
        "* **Precision:** measures how many true positive predictions we have out of the total number of positive predictions made by the model.\n",
        "<br> A higher precision value indicates that the model is making fewer false positive predictions.\n",
        "\n",
        "* **Recall:** measures how many true positive predictions we have out of the total number of actual positive records in our data.\n",
        "<br> A higher recall value indicates that the model is able to identify more positive instances correctly."
      ],
      "metadata": {
        "id": "shAfXEruS9YI"
      }
    },
    {
      "cell_type": "markdown",
      "source": [
        "### Best Model Training Evaluation"
      ],
      "metadata": {
        "id": "fKLo0xLu7qzC"
      }
    },
    {
      "cell_type": "code",
      "source": [
        "# Model training evaluation metrics results\n",
        "\n",
        "best_train_loss, best_train_acc, best_train_prec, best_train_recall = eval_metrics(best_model, x_train, y_train)"
      ],
      "metadata": {
        "id": "P_wwUx31bSrA"
      },
      "execution_count": null,
      "outputs": []
    },
    {
      "cell_type": "code",
      "source": [
        "best_history.history.keys()"
      ],
      "metadata": {
        "id": "WjtIgYh1Y90b"
      },
      "execution_count": null,
      "outputs": []
    },
    {
      "cell_type": "markdown",
      "source": [
        "##### Loss Training Evaluation"
      ],
      "metadata": {
        "id": "nAqA4QHHVat7"
      }
    },
    {
      "cell_type": "code",
      "source": [
        "plot_history_metric(best_history, 'loss')"
      ],
      "metadata": {
        "id": "u8W3a9uHYZV_"
      },
      "execution_count": null,
      "outputs": []
    },
    {
      "cell_type": "markdown",
      "source": [
        "##### Accuracy Training Evaluation"
      ],
      "metadata": {
        "id": "MNt_vcG4VlyH"
      }
    },
    {
      "cell_type": "code",
      "source": [
        "plot_history_metric(best_history, 'accuracy')"
      ],
      "metadata": {
        "id": "asXDn_isSaR1"
      },
      "execution_count": null,
      "outputs": []
    },
    {
      "cell_type": "markdown",
      "source": [
        "##### Precision Training Evaluation"
      ],
      "metadata": {
        "id": "N5JCumNeY8rc"
      }
    },
    {
      "cell_type": "code",
      "source": [
        "precision_metric_key = list(best_history.history.keys())[2]\n",
        "\n",
        "plot_history_metric(best_history, precision_metric_key)"
      ],
      "metadata": {
        "id": "52rmQznzSaYf"
      },
      "execution_count": null,
      "outputs": []
    },
    {
      "cell_type": "markdown",
      "source": [
        "##### Recall Training Evaluation"
      ],
      "metadata": {
        "id": "awMczc-cY_VV"
      }
    },
    {
      "cell_type": "code",
      "source": [
        "recall_metric_key = list(best_history.history.keys())[3]\n",
        "\n",
        "plot_history_metric(best_history, recall_metric_key)"
      ],
      "metadata": {
        "id": "k7C7SSbdSafV"
      },
      "execution_count": null,
      "outputs": []
    },
    {
      "cell_type": "markdown",
      "source": [
        "##### Best Model Training Evaluations Conclusions\n",
        "\n",
        "We can see a general improvement in all metrics for our best model training process, compared to the base model."
      ],
      "metadata": {
        "id": "WOkzMEz_VGp6"
      }
    },
    {
      "cell_type": "markdown",
      "source": [
        "#### Precision-Recall Curve"
      ],
      "metadata": {
        "id": "LLvIdewD22cF"
      }
    },
    {
      "cell_type": "markdown",
      "source": [
        "Precision-Recall curve is a graphical representation of the trade-off between precision and recall for a given classifier or model, in our case - a CNN for image classification.\n",
        "\n",
        "The precision-recall curve can be used to select the best threshold for the model to make predictions.\n",
        "\n",
        "In general, a classifier with perfect precision and recall will have a precision-recall curve that reaches the top-left corner of the plot, because the graph represents the trade off between precision and recall."
      ],
      "metadata": {
        "id": "WTDVXE-fU81p"
      }
    },
    {
      "cell_type": "code",
      "source": [
        "disp = PrecisionRecallDisplay(precision=best_history.history[precision_metric_key],\n",
        "                              recall=best_history.history[recall_metric_key])\n",
        "\n",
        "disp.plot()"
      ],
      "metadata": {
        "id": "c0cgYnGs3KBy"
      },
      "execution_count": null,
      "outputs": []
    },
    {
      "cell_type": "markdown",
      "source": [
        "### Best Model Prediction Evaluation"
      ],
      "metadata": {
        "id": "KQu1trjHZLQI"
      }
    },
    {
      "cell_type": "code",
      "source": [
        "# Predict the probabilities of class labels for the test data using the best trained model\n",
        "\n",
        "pred_proba_best = best_model.predict(x_test)"
      ],
      "metadata": {
        "id": "K8Mk6GkoZf1z"
      },
      "execution_count": null,
      "outputs": []
    },
    {
      "cell_type": "markdown",
      "source": [
        "#### Find Best Probability Threshold"
      ],
      "metadata": {
        "id": "gqPypBKVbBbE"
      }
    },
    {
      "cell_type": "markdown",
      "source": [
        "To select the best threshold, we will find and select the threshold that maximizes the F1 score, which represents a trade-off between precision and recall.\n",
        "\n",
        "**F1 Score**, is the the harmonic mean of precision and recall. It provides a single metric that balances both precision and recall.\n",
        "\n"
      ],
      "metadata": {
        "id": "NDWYdViDbcJ0"
      }
    },
    {
      "cell_type": "code",
      "source": [
        "# Calculate precision, recall, and F1 score for different threshold values\n",
        "threshold_values = [0.1, 0.2, 0.3, 0.4, 0.5, 0.6, 0.7, 0.8, 0.9]\n",
        "f1_scores = []\n",
        "\n",
        "for threshold in threshold_values:\n",
        "    y_pred = [1 if pred > threshold else 0 for pred in pred_proba_best]\n",
        "    f1 = f1_score(y_test, y_pred, average='micro')\n",
        "    f1_scores.append(f1)\n",
        "\n",
        "# Find the threshold value that maximizes the F1 score\n",
        "best_threshold = threshold_values[f1_scores.index(max(f1_scores))]\n",
        "print(f\"The best threshold for the model to make predictions: {best_threshold}\")"
      ],
      "metadata": {
        "id": "KQfCmpheapbz"
      },
      "execution_count": null,
      "outputs": []
    },
    {
      "cell_type": "code",
      "source": [
        "# Create labels list by predicted probabilities\n",
        "\n",
        "y_pred = []\n",
        "for pred in pred_proba_best:\n",
        "  if pred > best_threshold:\n",
        "    y_pred.append(1)\n",
        "  else:\n",
        "    y_pred.append(0)"
      ],
      "metadata": {
        "id": "VWAxEGv7ZkUs"
      },
      "execution_count": null,
      "outputs": []
    },
    {
      "cell_type": "markdown",
      "source": [
        "#### Best Model Test Evaluations"
      ],
      "metadata": {
        "id": "G_fmavMMcB7I"
      }
    },
    {
      "cell_type": "code",
      "source": [
        "test_loss, test_acc, test_prec, test_recall  = eval_metrics(best_model, x_test, y_test)"
      ],
      "metadata": {
        "id": "v_ay_SEYZo18"
      },
      "execution_count": null,
      "outputs": []
    },
    {
      "cell_type": "markdown",
      "source": [
        "#### Confusion Matrix"
      ],
      "metadata": {
        "id": "YtzeqeSz1iM3"
      }
    },
    {
      "cell_type": "markdown",
      "source": [
        "A confusion matrix is often used to describe the performance of a classification algorithm, so it fits the case of our task - CNN for image classification.\n",
        "\n",
        "This kind of metric can be useful in understanding where the model is making errors."
      ],
      "metadata": {
        "id": "9LEaEsHyUYwv"
      }
    },
    {
      "cell_type": "code",
      "source": [
        "conf_mat = confusion_matrix(y_test, y_pred)\n",
        "sns.heatmap(conf_mat, annot=True)\n",
        "plt.xlabel('Predicted label')\n",
        "plt.ylabel('True label')"
      ],
      "metadata": {
        "id": "L3k7g5N3Uzhe"
      },
      "execution_count": null,
      "outputs": []
    },
    {
      "cell_type": "markdown",
      "source": [
        "**Confusion Matrix Conclusions:**\n",
        "\n",
        "We can see that our best model has mistaken in his prediction for only **3** inputs out of 125 total records."
      ],
      "metadata": {
        "id": "Xi4_uAetVZFa"
      }
    },
    {
      "cell_type": "markdown",
      "source": [
        "#### ROC Curve"
      ],
      "metadata": {
        "id": "aVUa7bJW25ji"
      }
    },
    {
      "cell_type": "markdown",
      "source": [
        "ROC (Receiver Operating Characteristic) curve is used to represent the\n",
        "performance of a binary classifier graphically.\n",
        "\n",
        "In the graph we can see the trade off between the recall and the false positive rate.\n",
        "\n",
        "Another metric we get from ROC curve is AUC - Area Under the Curve. This metric gives a measurement on the performance of the model."
      ],
      "metadata": {
        "id": "G2LdsoQQYVCN"
      }
    },
    {
      "cell_type": "code",
      "source": [
        "ax = plt.gca()\n",
        "\n",
        "RocCurveDisplay.from_predictions(y_test, y_pred, ax=ax, alpha=0.8, name=\"best_model\")\n",
        "\n",
        "plt.show()"
      ],
      "metadata": {
        "id": "VE6wuzOz4M4V"
      },
      "execution_count": null,
      "outputs": []
    },
    {
      "cell_type": "markdown",
      "source": [
        "**ROC Curve Conclusions:**\n",
        "\n",
        "Our best model reaches the top left corner, which means it has a very high true positive rate and a very low false positive rate.\n",
        "\n",
        "We can also see that the AUC value is **0.98**, which is very high, coresponding to our model's high performance."
      ],
      "metadata": {
        "id": "khHq8QYmZYmG"
      }
    },
    {
      "cell_type": "markdown",
      "source": [
        "## Discussion"
      ],
      "metadata": {
        "id": "dP5Gurmpth0h"
      }
    },
    {
      "cell_type": "markdown",
      "source": [
        "### Does the model overfit?"
      ],
      "metadata": {
        "id": "w0B-FYE9tmAf"
      }
    },
    {
      "cell_type": "markdown",
      "source": [
        "No, the model does not overfit.\n",
        "\n",
        "- First, high accuracy and/or low loss on training data are not necessarily indications for overfitting.\n",
        "- As we can see in the ```Model Evaluation```\n",
        " section in the notebook, when we compare the train and validation metrics evaluation results, we see that our model performs pretty well on the validation set as well. From that we can infer that our model has geneleralized new data (validation set) well after learning the training data set well also. This points that our model is not overfiting because it generalizes new data pretty well.\n",
        "- Another indication for not our model not overfitting - there is no big difference in accuracy results for the train and test set."
      ],
      "metadata": {
        "id": "LdE0iuluUoLQ"
      }
    },
    {
      "cell_type": "markdown",
      "source": [
        "### What is the effect of batch size? Do we observe this effect in the current task?"
      ],
      "metadata": {
        "id": "wJ_i8bOctmfs"
      }
    },
    {
      "cell_type": "markdown",
      "source": [
        "Generally in CNN, batch size controls the number of samples that are propagated through the network before a weight update is performed.\n",
        "\n",
        "Batch size can have two effects on CNN:\n",
        "\n",
        "1. Larger batch sizes generally lead to more efficient use of computational resources. Very large batch sizes may also cause the model to use up too much memory and slow down the training process.\n",
        "\n",
        "2. Smaller batch sizes can help stabilize the training process by introducing more noise to the weight updates, which can prevent the model from getting stuck in some local optima or overfitting the training data."
      ],
      "metadata": {
        "id": "oPwF7el-gwBE"
      }
    },
    {
      "cell_type": "markdown",
      "source": [
        "**In this task**, we ran grid search to also find the optimal batch size hyperparameter.\n",
        "\n",
        "We first ran the base model with batch size of 32 (Keras' default for CNN image classification model).\n",
        "\n",
        "Then we ran grid search with two options: 32, 64.\n",
        "\n",
        "After the grid search we get that batch size of 32 is optimal, so we can see the 2nd effect."
      ],
      "metadata": {
        "id": "URpdfYPNV9tc"
      }
    },
    {
      "cell_type": "markdown",
      "source": [
        "### What was the optimal optimizer? Why?"
      ],
      "metadata": {
        "id": "TDO0QCH0tnGp"
      }
    },
    {
      "cell_type": "markdown",
      "source": [
        "According to the grid search results, 'ADAM' was the optimal optimizer.\n",
        "It is known to be a good optimizer for different tasks, especially for image classification."
      ],
      "metadata": {
        "id": "-jHcgRJLnnpn"
      }
    },
    {
      "cell_type": "markdown",
      "source": [
        "Two main reasons for 'ADAM' to be an optimal optimizer are:\n",
        "\n",
        "1. 'ADAM' adapts the learning rate for each parameter, which can help the optimizer converge faster and more effectively than an optimizer with a fixed learning rate.\n",
        "\n",
        "2. 'ADAM' uses the idea of momentum, which helps the optimizer to avoid getting stuck in some local optima."
      ],
      "metadata": {
        "id": "GsjDM1wXWL6G"
      }
    },
    {
      "cell_type": "markdown",
      "source": [
        "More general advantages of 'ADAM' optimizer:\n",
        "\n",
        "- Computationally efficient.\n",
        "- Little memory requirements.\n",
        "- Invariant to diagonal rescale of the gradients.\n",
        "- Well suited for problems that are large in terms of data and/or parameters.\n",
        "- Appropriate for non-stationary objectives.\n",
        "- Appropriate for problems with very noisy or sprase gradients.\n",
        "- Hyper-parameters have intuitive iterpretation and typically require little tuning."
      ],
      "metadata": {
        "id": "BR5CktVlxgOd"
      }
    }
  ]
}